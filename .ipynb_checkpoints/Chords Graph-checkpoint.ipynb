{
 "cells": [
  {
   "cell_type": "code",
   "execution_count": 1,
   "metadata": {},
   "outputs": [],
   "source": [
    "import pandas as pd\n",
    "import matplotlib.pyplot as plt\n",
    "import math\n",
    "import seaborn as sns\n",
    "import numpy as np\n",
    "import chordplay as cp"
   ]
  },
  {
   "cell_type": "code",
   "execution_count": 2,
   "metadata": {},
   "outputs": [],
   "source": [
    "cp.playChordAudio(rootNote=-9, chordType=0)"
   ]
  },
  {
   "cell_type": "code",
   "execution_count": 3,
   "metadata": {},
   "outputs": [],
   "source": [
    "chorddf = pd.read_csv(\"chordstester1.csv\", header=None) \n",
    "list_old = [\"i\",\"I\",\"ii\",\"II\",\"iii\", \"III\",\"iv\",\"IV\",\"v\",\"V\",\"vi\",\"VI\",\"vii\",\"VII\"]\n",
    "list_new = [0,1,2,3,4,5,6,7,8,9,10,11,12,13]\n",
    "chorddf.replace(to_replace=list_old, value=list_new, inplace=True)\n",
    "\n",
    "#print(chorddf)"
   ]
  },
  {
   "cell_type": "code",
   "execution_count": 4,
   "metadata": {},
   "outputs": [],
   "source": [
    "num_columns = len(chorddf.columns)\n",
    "shape = chorddf.shape\n",
    "transitionMatrix = [[0]*14 for _ in range(14)] #makes a fourteen by fourteen matrix of zeros \n",
    "\n",
    "# for loop pulls out sequential pairs of integers and uses these\n",
    "#     to index into the transition matrix. For every set of \n",
    "#     indecies the element selected in the transition matrix \n",
    "#     gets increased by one. \n",
    "for i in range(shape[0]):\n",
    "    for j in range(shape[1]):\n",
    "        if((j+1 < shape[1])):\n",
    "            if( not math.isnan(chorddf.loc[i, j+1])):\n",
    "                #print('i', i, ' j', j, \" value1\", int(chorddf.loc[i, j]), \" value2\", int(chorddf.loc[i,j+1]))\n",
    "                value1 = int(chorddf.loc[i, j])\n",
    "                value2 = int(chorddf.loc[i,j+1])\n",
    "                transitionMatrix[value1][value2] += 1\n",
    "\n",
    "                \n",
    "#now convert to probabilities:\n",
    "for row in transitionMatrix:              # for loop iterates though the Rows in the transition matrix\n",
    "    n = sum(row)           #     It sums over the row \n",
    "    if n > 0:              #     If the row was not empty/zero\n",
    "        row[:] = [f/sum(row) for f in row] #   then each element gets normalized/averaged \n",
    "                                           #   by the sum of the row                \n",
    "\n",
    "#print(transitionMatrix)"
   ]
  },
  {
   "cell_type": "code",
   "execution_count": 5,
   "metadata": {},
   "outputs": [
    {
     "data": {
      "image/png": "[encoded data removed]",
      "text/plain": [
       "<Figure size 432x288 with 2 Axes>"
      ]
     },
     "metadata": {
      "needs_background": "light"
     },
     "output_type": "display_data"
    }
   ],
   "source": [
    "xticks = yticks = ['i','I', 'ii', 'II', 'iii','III ', 'iv', 'IV', 'v', 'V', 'vi', 'VI', 'vii', 'VII']\n",
    "ax = plt.axes()\n",
    "sns.heatmap(transitionMatrix,linewidth=0,yticklabels=yticks,xticklabels=xticks)\n",
    "ax.set_title('Chord Transition Heat Map')\n",
    "# This sets the yticks \"upright\" with 0, as opposed to sideways with 90.\n",
    "plt.yticks(rotation=0) \n",
    "\n",
    "plt.show()"
   ]
  },
  {
   "cell_type": "code",
   "execution_count": 6,
   "metadata": {},
   "outputs": [
    {
     "data": {
      "image/png": "[encoded data removed]",
      "text/plain": [
       "<Figure size 432x288 with 1 Axes>"
      ]
     },
     "metadata": {
      "needs_background": "light"
     },
     "output_type": "display_data"
    }
   ],
   "source": [
    "def buildChordProgression(initialChord=2, progressionLength = 4):\n",
    "    currentChord = initialChord\n",
    "    chosenChords = np.array([currentChord])\n",
    "\n",
    "    for i in range(progressionLength-1):\n",
    "        p = transitionMatrix[currentChord]\n",
    "        number = np.random.choice(np.arange(0, 14, dtype=int), p=p)\n",
    "        chosenChords = np.append(chosenChords, number)\n",
    "        currentChord = number\n",
    "        \n",
    "    return chosenChords\n",
    "\n",
    "progression = buildChordProgression()\n",
    "\n",
    "fig, ax = plt.subplots()\n",
    "ax.hist(progression, bins=[0,1,2,3,4,5,6,7,8,9,10,11,12,13])\n",
    "ax.set_title(\"Testing Next Chord Chooser\")\n",
    "ax.set_xticks(np.arange(14))\n",
    "ax.set_xticklabels(['i','I', 'ii', 'II', 'iii','III ', 'iv', 'IV', 'v', 'V', 'vi', 'VI', 'vii', 'VII'])\n",
    "plt.show()"
   ]
  },
  {
   "cell_type": "code",
   "execution_count": 7,
   "metadata": {},
   "outputs": [
    {
     "name": "stdout",
     "output_type": "stream",
     "text": [
      "[2 1 7 1]\n",
      "[-8. -9. -6. -9.]\n",
      "[1. 0. 0. 0.]\n"
     ]
    }
   ],
   "source": [
    "#convert chord progression start note into interval halfsteps. \n",
    "\n",
    "middleC = -9 # assumes middle C is -9\n",
    "progressionHalfSteps = np.zeros(len(progression))\n",
    "majorMinor= np.zeros(len(progression))\n",
    "\n",
    "for counter, chordNumber in enumerate(progression):\n",
    "    progressionHalfSteps[counter] = middleC + (np.ceil((chordNumber+1)/2)-1)\n",
    "    majorMinor[counter] = chordNumber%2==0\n",
    "\n",
    "print(progression)  \n",
    "print(progressionHalfSteps)\n",
    "print(majorMinor)\n"
   ]
  },
  {
   "cell_type": "code",
   "execution_count": 8,
   "metadata": {},
   "outputs": [],
   "source": [
    "cp.playChordProgression(progressionHalfSteps,majorMinor)"
   ]
  },
  {
   "cell_type": "code",
   "execution_count": null,
   "metadata": {},
   "outputs": [],
   "source": []
  },
  {
   "cell_type": "code",
   "execution_count": null,
   "metadata": {},
   "outputs": [],
   "source": []
  },
  {
   "cell_type": "markdown",
   "metadata": {},
   "source": [
    "In the graph heat above the over all probability of a chord being played is not captured only the transition probabilities. \n",
    "\n",
    "\n",
    "How do I capture the probability of the first chord?\n",
    "\n",
    "    This should just be count the first chords by type and then normalize by the total number of progressions. \n",
    "    \n",
    "    This could then be used as a seed for the start note. \n",
    "    \n",
    "    \n",
    "How do I get the transition probability given the previous n states? \n",
    "\n",
    "    The matrix could capture this if there were columns for every two pairs of chords. \n",
    "    \n",
    "    A recurrent neural network with LSTM might be able to capture this. \n",
    "    \n",
    "    \n",
    "Would I be able to construct confidence and prediction intervals on each transition?\n"
   ]
  },
  {
   "cell_type": "markdown",
   "metadata": {},
   "source": [
    "References for making audio:\n",
    "\n",
    "https://code.google.com/archive/p/python-musical/\n",
    "\n",
    "https://github.com/bspaans/python-mingus\n",
    "\n",
    "http://www.flexatone.org/athena.html\n",
    "\n",
    "References for Progressions: \n",
    "\n",
    "https://takelessons.com/blog/piano-chord-progressions-z06\n",
    "\n",
    "https://globalguitarnetwork.com/common-chord-progressions/\n",
    "\n",
    "http://openmusictheory.com/popRockHarmony-pachelbel.html\n",
    "\n",
    "https://www.hooktheory.com/theorytab/common-chord-progressions  #This one is particularly good\n",
    "\n",
    "Common Chords used to build graph:\n",
    "\n",
    "50s Progression (I, vi, IV, V or I, vi, ii, V)\n",
    "\n",
    "Pachelbel’s Progression (I, V, vi, iii)\n",
    "\n",
    "Pop-Punk Progression (I, V, vi, IV)\n",
    "\n",
    "The Blues Progression (I, I, I, I, IV, IV, I, I, V, V, I, I)\n",
    "\n",
    "Descending Flamenco Progression (vi, V, IV, III)\n",
    "\n",
    "    A variation of this progression (vi, V, VI, V) is also seen more often in modern music.\n",
    "    \n",
    "Stepwise Bass Down (I, V6, vi)"
   ]
  },
  {
   "cell_type": "code",
   "execution_count": null,
   "metadata": {},
   "outputs": [],
   "source": []
  }
 ],
 "metadata": {
  "kernelspec": {
   "display_name": "Python 3",
   "language": "python",
   "name": "python3"
  },
  "language_info": {
   "codemirror_mode": {
    "name": "ipython",
    "version": 3
   },
   "file_extension": ".py",
   "mimetype": "text/x-python",
   "name": "python",
   "nbconvert_exporter": "python",
   "pygments_lexer": "ipython3",
   "version": "3.7.0"
  }
 },
 "nbformat": 4,
 "nbformat_minor": 2
}
