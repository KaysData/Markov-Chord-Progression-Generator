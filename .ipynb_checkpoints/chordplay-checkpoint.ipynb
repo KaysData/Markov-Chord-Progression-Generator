{
 "cells": [
  {
   "cell_type": "code",
   "execution_count": 1,
   "metadata": {},
   "outputs": [],
   "source": [
    "%matplotlib inline\n",
    "import numpy as np\n",
    "import pyaudio\n",
    "import matplotlib.pyplot as plt"
   ]
  },
  {
   "cell_type": "code",
   "execution_count": 2,
   "metadata": {},
   "outputs": [],
   "source": [
    "def frequency(steps):\n",
    "    #where steps \n",
    "    #-57 is C0, -48 is A0, 50 is B8\n",
    "    #positive is number of half steps up from A4\n",
    "    #negative is number of halfsteps down from A4\n",
    "    #12 halfsteps are an octave\n",
    "    f = np.power(2, steps/12)*440 \n",
    "    # 440hz A4\n",
    "    # see https://en.wikipedia.org/wiki/Music_and_mathematics\n",
    "    return f\n",
    "\n",
    "def amplitude(frequency, x, fs = 44100):\n",
    "    #fs is the sample rate\n",
    "    \n",
    "    amplitude = np.sin(2*np.pi*frequency * (x/fs))\n",
    "    return amplitude\n",
    "\n",
    "def chordSignal(stepsFromA4toTonic, chordType, amplitudeScalar = 0.25, fs = 44100):\n",
    "    #fs is the sample rate\n",
    "    \n",
    "    # the frequency of the signal \n",
    "    tonic = frequency(stepsFromA4toTonic) \n",
    "    majThird = frequency(stepsFromA4toTonic+4-chordType)\n",
    "    fifth = frequency(stepsFromA4toTonic+7)  \n",
    "    majSeven = frequency(stepsFromA4toTonic+11-chordType) \n",
    "    majNine = frequency(stepsFromA4toTonic+14) \n",
    "\n",
    "        \n",
    "    # the points on the x axis for the signal\n",
    "    x = np.arange(fs) \n",
    "    \n",
    "    #making attack and decay\n",
    "    section1 = np.arange(fs*.1)\n",
    "    section2 = np.arange(fs*.4)\n",
    "    section3 = np.arange(fs*.5)\n",
    "\n",
    "    amplitude1 = (1/len(section1))*section1\n",
    "    amplitude2 = (section2*0)+1\n",
    "    amplitude3 = (-(1/len(section3)*section3))+1\n",
    "    amplitudeAttackDecay= np.append(amplitude1, amplitude2)\n",
    "    amplitudeAttackDecay= np.append(amplitudeAttackDecay,amplitude3)\n",
    "    \n",
    "    #amplitudeAttack = (1/4410)*attack\n",
    "    #amplitudeDecay = (-(1/39690)*decay) +1\n",
    "    #amplitudeAttackDecay  = np.append(amplitudeAttack,amplitudeDecay)\n",
    "    \n",
    "    # compute the value (amplitude) of the sin wave at the for each sample\n",
    "    note1 = amplitude(tonic, x)\n",
    "    note2 = amplitude(majThird, x)\n",
    "    note3 = amplitude(fifth, x)\n",
    "    note4 = amplitude(majSeven, x) \n",
    "    note5 = amplitude(majNine, x) \n",
    "\n",
    "    signal = (note1+note2+note3+note4+note5)*amplitudeScalar*amplitudeAttackDecay \n",
    "\n",
    "    return signal\n",
    "\n",
    "def chordWithHarmonic(chordType, rootNote=-9, rate=44100):\n",
    "    signal = chordSignal(rootNote, chordType, fs = rate)+ chordSignal(rootNote+12, chordType, amplitudeScalar= 0.10, fs = rate)\n",
    "    return signal"
   ]
  },
  {
   "cell_type": "code",
   "execution_count": 3,
   "metadata": {},
   "outputs": [],
   "source": [
    "def playChordAudio(rootNote, chordType):\n",
    "    rate =44100\n",
    "    data = chordWithHarmonic(chordType, rootNote=rootNote, rate=rate)\n",
    "\n",
    "    ''' Send audio array to pyaudio for playback\n",
    "    '''\n",
    "\n",
    "    p = pyaudio.PyAudio()\n",
    "    stream = p.open(format=pyaudio.paFloat32, channels=1, rate=rate, output=1)\n",
    "    stream.write(data.astype(np.float32).tostring())\n",
    "    stream.close()\n",
    "    p.terminate()"
   ]
  },
  {
   "cell_type": "code",
   "execution_count": 4,
   "metadata": {},
   "outputs": [],
   "source": [
    "def playChordProgression(progressionHalfSteps,majorMinor):\n",
    "    \n",
    "    for counter,rootNote in enumerate(progressionHalfSteps):\n",
    "        chordType = majorMinor[counter]\n",
    "        playChordAudio(rootNote,chordType)\n",
    "\n"
   ]
  },
  {
   "cell_type": "code",
   "execution_count": 5,
   "metadata": {},
   "outputs": [],
   "source": [
    "#progressionHalfSteps = np.array([-8., -5., -9., -9.])\n",
    "#majorMinor = np.array([1., 0., 0., 0.])\n",
    "#playChordProgression(progressionHalfSteps, majorMinor)"
   ]
  },
  {
   "cell_type": "code",
   "execution_count": 6,
   "metadata": {},
   "outputs": [],
   "source": [
    "#amplitude1 = chordSignal(-9, 0)\n",
    "#x =np.arange(44100)\n",
    "#plt.plot(x, amplitude1)\n",
    "\n"
   ]
  },
  {
   "cell_type": "code",
   "execution_count": 7,
   "metadata": {},
   "outputs": [],
   "source": [
    "#amplitude2 = chordSignal(-9, 0)\n",
    "#x =np.arange(44100)\n",
    "#plt.plot(x[30000:], amplitude2[30000:])"
   ]
  },
  {
   "cell_type": "code",
   "execution_count": 8,
   "metadata": {},
   "outputs": [],
   "source": [
    "#amplitude2 = chordSignal(-9, 0)\n",
    "#x =np.arange(44100)\n",
    "#plt.plot(x[42000:], amplitude2[42000:])"
   ]
  },
  {
   "cell_type": "code",
   "execution_count": null,
   "metadata": {},
   "outputs": [],
   "source": []
  },
  {
   "cell_type": "code",
   "execution_count": null,
   "metadata": {},
   "outputs": [],
   "source": []
  }
 ],
 "metadata": {
  "kernelspec": {
   "display_name": "Python 3",
   "language": "python",
   "name": "python3"
  },
  "language_info": {
   "codemirror_mode": {
    "name": "ipython",
    "version": 3
   },
   "file_extension": ".py",
   "mimetype": "text/x-python",
   "name": "python",
   "nbconvert_exporter": "python",
   "pygments_lexer": "ipython3",
   "version": "3.7.0"
  }
 },
 "nbformat": 4,
 "nbformat_minor": 2
}
